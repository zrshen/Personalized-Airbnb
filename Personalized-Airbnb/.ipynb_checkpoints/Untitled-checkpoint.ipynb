{
 "cells": [
  {
   "cell_type": "code",
   "execution_count": 1,
   "id": "monetary-class",
   "metadata": {},
   "outputs": [],
   "source": [
    "import numpy as np\n",
    "import pandas as pd"
   ]
  },
  {
   "cell_type": "code",
   "execution_count": 47,
   "id": "champion-african",
   "metadata": {},
   "outputs": [],
   "source": [
    "file='data_output.csv'"
   ]
  },
  {
   "cell_type": "code",
   "execution_count": 48,
   "id": "peaceful-richmond",
   "metadata": {},
   "outputs": [],
   "source": [
    "data=pd.read_csv(file,index_col='id')"
   ]
  },
  {
   "cell_type": "code",
   "execution_count": 57,
   "id": "subsequent-connecticut",
   "metadata": {},
   "outputs": [],
   "source": [
    "cols = ['review_scores_rating', 'review_scores_accuracy',\n",
    "       'review_scores_cleanliness', 'review_scores_checkin',\n",
    "       'review_scores_communication', 'review_scores_location',\n",
    "       'review_scores_value', 'des_house', 'des_bed', 'des_kitchen',\n",
    "       'des_bathroom', 'des_livingroom', 'des_location', 're_host', 're_house',\n",
    "       're_location', 're_bed', 're_general']"
   ]
  },
  {
   "cell_type": "code",
   "execution_count": 58,
   "id": "broad-gravity",
   "metadata": {},
   "outputs": [],
   "source": [
    "for col in cols:\n",
    "    data[col]=data[col].replace(0,data[data[col]!=0][col].dropna().mean())"
   ]
  },
  {
   "cell_type": "code",
   "execution_count": 59,
   "id": "touched-advertiser",
   "metadata": {},
   "outputs": [],
   "source": [
    "data.to_csv('data_output.csv')"
   ]
  }
 ],
 "metadata": {
  "kernelspec": {
   "display_name": "Python 3",
   "language": "python",
   "name": "python3"
  },
  "language_info": {
   "codemirror_mode": {
    "name": "ipython",
    "version": 3
   },
   "file_extension": ".py",
   "mimetype": "text/x-python",
   "name": "python",
   "nbconvert_exporter": "python",
   "pygments_lexer": "ipython3",
   "version": "3.8.5"
  }
 },
 "nbformat": 4,
 "nbformat_minor": 5
}
